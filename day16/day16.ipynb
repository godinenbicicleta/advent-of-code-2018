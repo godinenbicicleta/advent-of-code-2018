{
 "cells": [
  {
   "cell_type": "code",
   "execution_count": 5,
   "metadata": {},
   "outputs": [],
   "source": [
    "ejemplo = \"\"\"Before: [1, 1, 3, 1]\n",
    "13 1 2 0\n",
    "After:  [0, 1, 3, 1]\"\"\"\n",
    "\n"
   ]
  },
  {
   "cell_type": "code",
   "execution_count": 19,
   "metadata": {},
   "outputs": [],
   "source": [
    "before, instruction, after = ejemplo.replace('Before: ','').replace('After:  ','').split('\\n')"
   ]
  },
  {
   "cell_type": "code",
   "execution_count": 24,
   "metadata": {},
   "outputs": [],
   "source": [
    "lineas = before,instruction,after"
   ]
  },
  {
   "cell_type": "code",
   "execution_count": 29,
   "metadata": {},
   "outputs": [
    {
     "data": {
      "text/plain": [
       "('[1, 1, 3, 1]', '13 1 2 0', '[0, 1, 3, 1]')"
      ]
     },
     "execution_count": 29,
     "metadata": {},
     "output_type": "execute_result"
    }
   ],
   "source": [
    "lineas"
   ]
  },
  {
   "cell_type": "code",
   "execution_count": 35,
   "metadata": {},
   "outputs": [
    {
     "data": {
      "text/plain": [
       "3"
      ]
     },
     "execution_count": 35,
     "metadata": {},
     "output_type": "execute_result"
    }
   ],
   "source": [
    "parser(lineas[0])[2]"
   ]
  },
  {
   "cell_type": "code",
   "execution_count": 33,
   "metadata": {},
   "outputs": [
    {
     "data": {
      "text/plain": [
       "[13, 1, 2, 0]"
      ]
     },
     "execution_count": 33,
     "metadata": {},
     "output_type": "execute_result"
    }
   ],
   "source": [
    "[int(i) for i in lineas[1].split()]"
   ]
  },
  {
   "cell_type": "code",
   "execution_count": 36,
   "metadata": {},
   "outputs": [
    {
     "data": {
      "text/plain": [
       "{0: 4, 1: 1, 2: 3, 3: 1}"
      ]
     },
     "execution_count": 36,
     "metadata": {},
     "output_type": "execute_result"
    }
   ],
   "source": [
    "addr(lineas)"
   ]
  },
  {
   "cell_type": "code",
   "execution_count": 26,
   "metadata": {},
   "outputs": [],
   "source": [
    "\"\"\"Before: [1, 1, 3, 1]\n",
    "13 1 2 0\n",
    "After:  [0, 1, 3, 1]\"\"\"\n",
    "\n",
    "def parser(lista):\n",
    "    register = {}\n",
    "    for r,v in enumerate(eval(lista)):\n",
    "        register[r] = v\n",
    "    return register\n",
    "    \n",
    "\n",
    "#Addition:\n",
    "\n",
    "\n",
    "#addr (add register) stores into register C the result of adding register A and register B.\n",
    "def addr(lista):\n",
    "    instructions = lista[1]\n",
    "    register = parser(lista[0])\n",
    "    opcode,A,B,C = [int(i) for i in instructions.split()]\n",
    "    register[C] = register[A] + register[B]\n",
    "    return register\n",
    "    \n",
    "\n",
    "#addi (add immediate) stores into register C the result of adding register A and value B.\n",
    "#Multiplication:\n",
    "\n",
    "#mulr (multiply register) stores into register C the result of multiplying register A and register B.\n",
    "#muli (multiply immediate) stores into register C the result of multiplying register A and value B.\n",
    "#Bitwise AND:\n",
    "\n",
    "#banr (bitwise AND register) stores into register C the result of the bitwise AND of register A and register B.\n",
    "#bani (bitwise AND immediate) stores into register C the result of the bitwise AND of register A and value B.\n",
    "#Bitwise OR:\n",
    "\n",
    "#borr (bitwise OR register) stores into register C the result of the bitwise OR of register A and register B.\n",
    "#bori (bitwise OR immediate) stores into register C the result of the bitwise OR of register A and value B.\n",
    "#Assignment:\n",
    "\n",
    "#setr (set register) copies the contents of register A into register C. (Input B is ignored.)\n",
    "#seti (set immediate) stores value A into register C. (Input B is ignored.)\n",
    "#Greater-than testing:\n",
    "\n",
    "#gtir (greater-than immediate/register) sets register C to 1 if value A is greater than register B. Otherwise, register C is set to 0.\n",
    "#gtri (greater-than register/immediate) sets register C to 1 if register A is greater than value B. Otherwise, register C is set to 0.\n",
    "#gtrr (greater-than register/register) sets register C to 1 if register A is greater than register B. Otherwise, register C is set to 0.\n",
    "#Equality testing:\n",
    "\n",
    "#eqir (equal immediate/register) sets register C to 1 if value A is equal to register B. Otherwise, register C is set to 0.\n",
    "#eqri (equal register/immediate) sets register C to 1 if register A is equal to value B. Otherwise, register C is set to 0.\n",
    "#eqrr (equal register/register) sets register C to 1 if register A is equal to register B. Otherwise, register C is set to 0."
   ]
  },
  {
   "cell_type": "code",
   "execution_count": null,
   "metadata": {},
   "outputs": [],
   "source": []
  }
 ],
 "metadata": {
  "kernelspec": {
   "display_name": "Python 3",
   "language": "python",
   "name": "python3"
  },
  "language_info": {
   "codemirror_mode": {
    "name": "ipython",
    "version": 3
   },
   "file_extension": ".py",
   "mimetype": "text/x-python",
   "name": "python",
   "nbconvert_exporter": "python",
   "pygments_lexer": "ipython3",
   "version": "3.7.0"
  }
 },
 "nbformat": 4,
 "nbformat_minor": 2
}
