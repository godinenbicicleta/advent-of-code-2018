{
 "cells": [
  {
   "cell_type": "code",
   "execution_count": 25,
   "metadata": {},
   "outputs": [
    {
     "name": "stdout",
     "output_type": "stream",
     "text": [
      "[9, 11, 7, 3, 5, 5, 3, 6, 1, 9, 0, 6, 2, 1, 3, 8, 2, 1, 2, 1, 3, 1, 2, 2, 1, 1, 3, 1, 8, 0, 8, 3, 1, 5, 8, 4, 3, 3, 3, 2, 1, 1, 3, 1, 1, 3, 1, 1, 7, 0, 11, 3, 6, 6, 5, 1, 1, 5, 3, 3, 3, 1, 2, 2, 1, 2, 2, 2, 1, 4, 3, 4, 1, 4, 4, 3, 6, 1, 7, 0, 11, 7, 6, 2, 6, 7, 5, 4, 1, 1, 3, 7, 1, 1, 2, 2, 1, 2, 3, 1]\n"
     ]
    }
   ],
   "source": [
    "with open('data','r') as f:\n",
    "    data = f.read()\n",
    "    data = data[:-1]\n",
    "    data = [int(i) for i in data.split( ' ')]\n",
    "    \n",
    "    \n",
    "f.close()\n",
    "print(data[0:100])"
   ]
  },
  {
   "cell_type": "code",
   "execution_count": 81,
   "metadata": {},
   "outputs": [],
   "source": [
    "class Tree():\n",
    "    def __init__(self,configuration):\n",
    "        self.configuration = configuration[2:]\n",
    "        self.nodes = []\n",
    "        self.metaTree = 0\n",
    "        self.masterNode = Node(configuration[0],configuration[1], 'masterNode')\n",
    "        self.addNode(self.masterNode)\n",
    "        \n",
    "    def addNode(self,node):\n",
    "        self.nodes.append(node)\n",
    "        \n",
    "    def fillTree(self):\n",
    "        currentNode = self.masterNode\n",
    "        while len(self.configuration)>0:\n",
    "            \n",
    "            if not currentNode.isCompleto:\n",
    "                hijos = self.configuration.pop(0)\n",
    "                meta = self.configuration.pop(0)\n",
    "                new_child = Child(hijos, meta, currentNode)\n",
    "                currentNode.addChild(new_child)\n",
    "                currentNode = new_child\n",
    "            \n",
    "            if currentNode.isCompleto:\n",
    "                len_meta = currentNode.numMeta\n",
    "                for i in range(len_meta):\n",
    "                    miti = self.configuration.pop(0)\n",
    "                    currentNode.addMeta(miti)\n",
    "                    self.metaTree+=miti\n",
    "                if currentNode != self.masterNode:\n",
    "                    currentNode = currentNode.parentNode\n",
    "                \n",
    "            \n",
    "        \n",
    "        \n",
    "\n",
    "class Node():\n",
    "    def __init__(self,numChilds, numMeta, name):\n",
    "        self.name = name\n",
    "        self.numChilds = numChilds\n",
    "        self.numMeta = numMeta\n",
    "        self.childs = []\n",
    "        self.metadata = []\n",
    "        self.currentChilds = 0\n",
    "        self.curentChilds = len(self.childs)\n",
    "        if self.numChilds == self.currentChilds:\n",
    "            self.isCompleto = True\n",
    "        else:\n",
    "            self.isCompleto = False\n",
    "            \n",
    "    def addChild(self,child):\n",
    "        self.childs.append(child)\n",
    "        self.currentChilds += 1\n",
    "        if self.currentChilds == self.numChilds:\n",
    "            self.isCompleto = True\n",
    "        \n",
    "    def addMeta(self,value):\n",
    "        self.metadata.append(value)\n",
    "        \n",
    "    def __str__(self):\n",
    "        return self.name\n",
    "    \n",
    "    def get_value(self):\n",
    "        val = 0\n",
    "        childs_to_consider = [i-1 for i in self.metadata]\n",
    "        validos = []\n",
    "        if len(self.childs) == 0:\n",
    "            return sum(self.metadata)\n",
    "        \n",
    "        for co in childs_to_consider:\n",
    "            try:\n",
    "                validos.append(self.childs[co])\n",
    "            except IndexError:\n",
    "                pass\n",
    "        if len(validos) == 0:\n",
    "            return 0\n",
    "        \n",
    "        for valido in validos:\n",
    "            val+= valido.get_value()\n",
    "        \n",
    "        return val\n",
    "        \n",
    "\n",
    "class Child(Node):\n",
    "    def __init__(self, numChilds, numMeta, parentNode):\n",
    "        self.name = name = f'{numChilds}' + f'{numMeta}' + f'{parentNode.name}' + f'{parentNode.currentChilds}'\n",
    "        Node.__init__(self, numChilds, numMeta, self.name)\n",
    "        self.parentNode = parentNode"
   ]
  },
  {
   "cell_type": "code",
   "execution_count": 82,
   "metadata": {},
   "outputs": [],
   "source": [
    "arbol = Tree(data)"
   ]
  },
  {
   "cell_type": "code",
   "execution_count": 83,
   "metadata": {},
   "outputs": [],
   "source": [
    "arbol.fillTree()"
   ]
  },
  {
   "cell_type": "code",
   "execution_count": 84,
   "metadata": {},
   "outputs": [
    {
     "data": {
      "text/plain": [
       "[9, 1, 4, 6, 9, 3, 6, 1, 9, 10, 6]"
      ]
     },
     "execution_count": 84,
     "metadata": {},
     "output_type": "execute_result"
    }
   ],
   "source": [
    "arbol.masterNode.metadata"
   ]
  },
  {
   "cell_type": "code",
   "execution_count": 86,
   "metadata": {},
   "outputs": [
    {
     "data": {
      "text/plain": [
       "25656"
      ]
     },
     "execution_count": 86,
     "metadata": {},
     "output_type": "execute_result"
    }
   ],
   "source": [
    "arbol.masterNode.get_value()"
   ]
  },
  {
   "cell_type": "code",
   "execution_count": null,
   "metadata": {},
   "outputs": [],
   "source": []
  }
 ],
 "metadata": {
  "kernelspec": {
   "display_name": "Python 3",
   "language": "python",
   "name": "python3"
  },
  "language_info": {
   "codemirror_mode": {
    "name": "ipython",
    "version": 3
   },
   "file_extension": ".py",
   "mimetype": "text/x-python",
   "name": "python",
   "nbconvert_exporter": "python",
   "pygments_lexer": "ipython3",
   "version": "3.7.0"
  }
 },
 "nbformat": 4,
 "nbformat_minor": 2
}
