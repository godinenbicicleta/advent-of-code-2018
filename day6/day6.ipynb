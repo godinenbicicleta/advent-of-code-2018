{
 "cells": [
  {
   "cell_type": "code",
   "execution_count": 14,
   "metadata": {},
   "outputs": [],
   "source": [
    "coordinates = []\n",
    "with open('data','r') as f:\n",
    "    for row in f:\n",
    "        x = int(row.strip().split(',')[0])\n",
    "        y = int(row.strip().split(',')[1])\n",
    "        coordinates.append((x,y))\n",
    "\n",
    "def distance(p1,p2):\n",
    "    return abs(p1[0]-p2[0])+ abs(p1[1]-p2[1])\n",
    "\n",
    "import matplotlib.pyplot as plt\n",
    "x_coords = [i for i,_ in coordinates]\n",
    "y_coords = [i for _,i in coordinates]\n",
    "\n",
    "xmax = max(x_coords)\n",
    "xmin = min(x_coords)\n",
    "\n",
    "ymax = max(y_coords)\n",
    "ymin = min(y_coords)\n",
    "\n",
    "malla = [[i,j] for i in range(xmin,xmax+1) for j in range(ymin,ymax+1)]\n"
   ]
  },
  {
   "cell_type": "code",
   "execution_count": 52,
   "metadata": {},
   "outputs": [
    {
     "data": {
      "image/png": "[encoded data removed]",
      "text/plain": [
       "<Figure size 432x288 with 1 Axes>"
      ]
     },
     "metadata": {
      "needs_background": "light"
     },
     "output_type": "display_data"
    }
   ],
   "source": [
    "_ = plt.scatter([i for i,_ in malla], [i for _,i in malla],marker = '.')\n",
    "_ = plt.scatter(x_coords, y_coords, color = 'red')\n",
    "\n",
    "plt.show()"
   ]
  },
  {
   "cell_type": "code",
   "execution_count": 41,
   "metadata": {},
   "outputs": [],
   "source": [
    "points_dict = {p:0 for p in coordinates}"
   ]
  },
  {
   "cell_type": "code",
   "execution_count": 42,
   "metadata": {},
   "outputs": [
    {
     "data": {
      "text/plain": [
       "{(46, 246): 0,\n",
       " (349, 99): 0,\n",
       " (245, 65): 0,\n",
       " (241, 253): 0,\n",
       " (127, 128): 0,\n",
       " (295, 69): 0,\n",
       " (205, 74): 0,\n",
       " (167, 72): 0,\n",
       " (103, 186): 0,\n",
       " (101, 242): 0,\n",
       " (256, 75): 0,\n",
       " (122, 359): 0,\n",
       " (132, 318): 0,\n",
       " (163, 219): 0,\n",
       " (87, 309): 0,\n",
       " (283, 324): 0,\n",
       " (164, 342): 0,\n",
       " (255, 174): 0,\n",
       " (187, 305): 0,\n",
       " (145, 195): 0,\n",
       " (69, 266): 0,\n",
       " (137, 239): 0,\n",
       " (241, 232): 0,\n",
       " (97, 319): 0,\n",
       " (264, 347): 0,\n",
       " (256, 214): 0,\n",
       " (217, 47): 0,\n",
       " (109, 118): 0,\n",
       " (244, 120): 0,\n",
       " (132, 310): 0,\n",
       " (247, 309): 0,\n",
       " (185, 138): 0,\n",
       " (215, 323): 0,\n",
       " (184, 51): 0,\n",
       " (268, 188): 0,\n",
       " (54, 226): 0,\n",
       " (262, 347): 0,\n",
       " (206, 260): 0,\n",
       " (213, 175): 0,\n",
       " (302, 277): 0,\n",
       " (188, 275): 0,\n",
       " (352, 143): 0,\n",
       " (217, 49): 0,\n",
       " (296, 237): 0,\n",
       " (349, 339): 0,\n",
       " (179, 309): 0,\n",
       " (227, 329): 0,\n",
       " (226, 346): 0,\n",
       " (306, 238): 0,\n",
       " (48, 163): 0}"
      ]
     },
     "execution_count": 42,
     "metadata": {},
     "output_type": "execute_result"
    }
   ],
   "source": [
    "points_dict"
   ]
  },
  {
   "cell_type": "code",
   "execution_count": 45,
   "metadata": {},
   "outputs": [
    {
     "name": "stdout",
     "output_type": "stream",
     "text": [
      "0 0\n",
      "1 1\n"
     ]
    }
   ],
   "source": [
    "imin=0\n",
    "imax = 2\n",
    "\n",
    "while imin < imax:\n",
    "    for x in range(imin,imin+1):      \n",
    "        for y in range(imin,imin+1):\n",
    "            print(x,y)\n",
    "    imin+=1"
   ]
  },
  {
   "cell_type": "code",
   "execution_count": 50,
   "metadata": {},
   "outputs": [
    {
     "data": {
      "text/plain": [
       "96091"
      ]
     },
     "execution_count": 50,
     "metadata": {},
     "output_type": "execute_result"
    }
   ],
   "source": [
    "len(malla)"
   ]
  },
  {
   "cell_type": "code",
   "execution_count": null,
   "metadata": {},
   "outputs": [],
   "source": []
  }
 ],
 "metadata": {
  "kernelspec": {
   "display_name": "Python 3",
   "language": "python",
   "name": "python3"
  },
  "language_info": {
   "codemirror_mode": {
    "name": "ipython",
    "version": 3
   },
   "file_extension": ".py",
   "mimetype": "text/x-python",
   "name": "python",
   "nbconvert_exporter": "python",
   "pygments_lexer": "ipython3",
   "version": "3.7.0"
  }
 },
 "nbformat": 4,
 "nbformat_minor": 2
}
