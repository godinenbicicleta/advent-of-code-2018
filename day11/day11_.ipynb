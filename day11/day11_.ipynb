{
 "cells": [
  {
   "cell_type": "code",
   "execution_count": 44,
   "metadata": {},
   "outputs": [],
   "source": [
    "cells = [(i,j) for i in range(1,301) for j in range(1,301)]\n",
    "serial_number = 9424"
   ]
  },
  {
   "cell_type": "code",
   "execution_count": 45,
   "metadata": {},
   "outputs": [],
   "source": [
    "def get_value(cell):\n",
    "    rackID = cell[0]+10\n",
    "    power_level = int(str(int(((cell[1]*rackID+serial_number)*rackID)/100))[-1])-5\n",
    "    return power_level\n",
    "    \n",
    "    "
   ]
  },
  {
   "cell_type": "code",
   "execution_count": 46,
   "metadata": {},
   "outputs": [],
   "source": [
    "diccionario = {cell:get_value(cell) for cell in cells}"
   ]
  },
  {
   "cell_type": "code",
   "execution_count": 47,
   "metadata": {},
   "outputs": [],
   "source": [
    "vecinos = {cell:diccionario[cell] for cell in cells}"
   ]
  },
  {
   "cell_type": "code",
   "execution_count": 42,
   "metadata": {},
   "outputs": [],
   "source": [
    "for cell in cells:\n",
    "    try:\n",
    "        vecinos[cell]+= diccionario[(cell[0]-1, cell[1]-1)]\n",
    "    except:\n",
    "        pass\n",
    "    try:\n",
    "        vecinos[cell]+= diccionario[(cell[0]-1, cell[1]+1)]\n",
    "    except:\n",
    "        pass\n",
    "    try:\n",
    "        vecinos[cell]+= diccionario[(cell[0]-1, cell[1])]\n",
    "    except:\n",
    "        pass\n",
    "    \n",
    "    try:\n",
    "        vecinos[cell]+= diccionario[(cell[0]+1, cell[1]-1)]\n",
    "    except:\n",
    "        pass\n",
    "    \n",
    "    try:\n",
    "        vecinos[cell]+= diccionario[(cell[0]+1, cell[1]+1)]\n",
    "    except:\n",
    "        pass\n",
    "    \n",
    "    try:\n",
    "        vecinos[cell]+= diccionario[(cell[0]+1, cell[1])]\n",
    "    except:\n",
    "        pass\n",
    "    \n",
    "    try:\n",
    "        vecinos[cell]+= diccionario[(cell[0], cell[1]-1)]\n",
    "    except:\n",
    "        pass\n",
    "    \n",
    "    try:\n",
    "        vecinos[cell]+= diccionario[(cell[0], cell[1]+1)]\n",
    "    except:\n",
    "        pass"
   ]
  },
  {
   "cell_type": "code",
   "execution_count": 43,
   "metadata": {},
   "outputs": [
    {
     "data": {
      "text/plain": [
       "[((244, 73), 28),\n",
       " ((22, 133), 27),\n",
       " ((34, 155), 26),\n",
       " ((244, 71), 26),\n",
       " ((263, 22), 26),\n",
       " ((21, 139), 25),\n",
       " ((22, 56), 25),\n",
       " ((35, 29), 25),\n",
       " ((217, 106), 25),\n",
       " ((261, 26), 25)]"
      ]
     },
     "execution_count": 43,
     "metadata": {},
     "output_type": "execute_result"
    }
   ],
   "source": [
    "sorted(list(vecinos.items()),key = lambda x:x[1],reverse = True)[0:10]"
   ]
  },
  {
   "cell_type": "code",
   "execution_count": null,
   "metadata": {},
   "outputs": [],
   "source": [
    "vecinos = {cell:0 for cell in cells}\n",
    "for cell in cells:\n",
    "    max = vecinos[cell]\n",
    "    for i in range(-300,300):\n",
    "        for j in range(-300,300):\n",
    "            try:\n",
    "                suma+= diccionario[(cell[0]+i, cell[1]+j)]\n",
    "            except:\n",
    "                pass\n",
    "        \n",
    "    "
   ]
  }
 ],
 "metadata": {
  "kernelspec": {
   "display_name": "Python 3",
   "language": "python",
   "name": "python3"
  },
  "language_info": {
   "codemirror_mode": {
    "name": "ipython",
    "version": 3
   },
   "file_extension": ".py",
   "mimetype": "text/x-python",
   "name": "python",
   "nbconvert_exporter": "python",
   "pygments_lexer": "ipython3",
   "version": "3.7.0"
  }
 },
 "nbformat": 4,
 "nbformat_minor": 2
}
