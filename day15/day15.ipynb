{
 "cells": [
  {
   "cell_type": "code",
   "execution_count": 164,
   "metadata": {},
   "outputs": [],
   "source": [
    "file0 = \"\"\"################################\n",
    "#########.######################\n",
    "#########..#####################\n",
    "#########..G####################\n",
    "########....#GG#################\n",
    "########G......#################\n",
    "########........################\n",
    "###.####...#....################\n",
    "#....###.###...G.###############\n",
    "##......####.....#.#G..#.#######\n",
    "###G.G...###.........#...#######\n",
    "###......##...........##########\n",
    "#............G#####...##########\n",
    "#..G##G......#######..##########\n",
    "#.G.#.......#########..#########\n",
    "####..G.....#########...#.######\n",
    "#...........#########..........#\n",
    "##.#.....#..#########.E.....E..#\n",
    "##.###..G.G.#########..........#\n",
    "##...........#######E.#.......##\n",
    "#.............#####..........###\n",
    "#....#.....E................####\n",
    "##.............##.E...........##\n",
    "#....G.G.................###..##\n",
    "#..............#.....E...###..##\n",
    "#..##.##.G.....##E.......###.###\n",
    "###G..##.......###.###...##...##\n",
    "#####.E##.E.G..######...E.#..###\n",
    "####...###..#..#######.......###\n",
    "####...###############.#########\n",
    "#####..#########################\n",
    "################################\"\"\""
   ]
  },
  {
   "cell_type": "code",
   "execution_count": 165,
   "metadata": {},
   "outputs": [
    {
     "data": {
      "text/plain": [
       "['################################',\n",
       " '#########.######################',\n",
       " '#########..#####################',\n",
       " '#########..G####################',\n",
       " '########....#GG#################',\n",
       " '########G......#################',\n",
       " '########........################',\n",
       " '###.####...#....################',\n",
       " '#....###.###...G.###############',\n",
       " '##......####.....#.#G..#.#######',\n",
       " '###G.G...###.........#...#######',\n",
       " '###......##...........##########',\n",
       " '#............G#####...##########',\n",
       " '#..G##G......#######..##########',\n",
       " '#.G.#.......#########..#########',\n",
       " '####..G.....#########...#.######',\n",
       " '#...........#########..........#',\n",
       " '##.#.....#..#########.E.....E..#',\n",
       " '##.###..G.G.#########..........#',\n",
       " '##...........#######E.#.......##',\n",
       " '#.............#####..........###',\n",
       " '#....#.....E................####',\n",
       " '##.............##.E...........##',\n",
       " '#....G.G.................###..##',\n",
       " '#..............#.....E...###..##',\n",
       " '#..##.##.G.....##E.......###.###',\n",
       " '###G..##.......###.###...##...##',\n",
       " '#####.E##.E.G..######...E.#..###',\n",
       " '####...###..#..#######.......###',\n",
       " '####...###############.#########',\n",
       " '#####..#########################',\n",
       " '################################']"
      ]
     },
     "execution_count": 165,
     "metadata": {},
     "output_type": "execute_result"
    }
   ],
   "source": [
    "road = file0.split('\\n')\n",
    "road"
   ]
  },
  {
   "cell_type": "code",
   "execution_count": 166,
   "metadata": {},
   "outputs": [],
   "source": [
    "class Unit():\n",
    "    def __init__(self,  x, y, tipo):\n",
    "        self.attack_power = 3\n",
    "        self.hp = 200\n",
    "        self.tipo = tipo \n",
    "        self.x = x\n",
    "        self.y = y\n",
    "        self.alive = True\n",
    "        \n",
    "    def attack(self,other_unit):\n",
    "        other_unit.hp-=self.attack_power\n",
    "        if other_unit.hp <=0:\n",
    "            other_unit.alive = False\n",
    "            \n",
    "    def get_range(self,rd):\n",
    "        rango = []\n",
    "        if rd[self.y][self.x+1] == '.':\n",
    "            rango.append((self.x+1, self.y))\n",
    "        if rd[self.y][self.x-1] == '.':\n",
    "            rango.append((self.x-1, self.y))\n",
    "        if rd[self.y+1][self.x] == '.':\n",
    "            rango.append((self.x, self.y+1))\n",
    "        if rd[self.y-1][self.x] == '.':\n",
    "            rango.append((self.x, self.y-1))\n",
    "            \n",
    "        return rango\n",
    "        \n",
    "            "
   ]
  },
  {
   "cell_type": "code",
   "execution_count": 195,
   "metadata": {},
   "outputs": [],
   "source": [
    "class Path():\n",
    "    def __init__(self, masterNode,rd,goals):\n",
    "        self.masterNode = masterNode\n",
    "        self.nodes = [masterNode]\n",
    "        self.rd = rd\n",
    "        self.goals = goals\n",
    "        descartar = []\n",
    "        self.nodes_recorridos = []\n",
    "        \n",
    "    def fill(self):\n",
    "        current_node = self.masterNode\n",
    "        self.nodes_recorridos.append(current_node)\n",
    "        descartar.append((current_node.x,current_node.y))\n",
    "        \n",
    "        while len([i for i in self.nodes if (i.x,i.y) in self.goals ])==0:\n",
    "            if current_node.get_range(self.rd)!=[]:\n",
    "                \n",
    "                for i in current_node.get_range(self.rd):\n",
    "                    current_node.add_child(Node(current_node, i[0],i[1]))\n",
    "                descartar.append((i.x,i.y) for i in current_node.childs)\n",
    "            for i in current_node.childs:\n",
    "                pass\n",
    "    \n",
    "    def next_level(self,node):\n",
    "        \n",
    "        \n",
    "        if len(node.get_range(self.rd))==0:\n",
    "            return None\n",
    "\n",
    "        if len([i for i in node.get_range(self.rd) if (i[0],i[1]) in self.goals ])>0:\n",
    "            return node\n",
    "               \n",
    "        self.nodes_recorridos.append((node.x,node.y))\n",
    "        \n",
    "        for k in node.get_range(self.rd):\n",
    "            if k not in self.nodes_recorridos:\n",
    "                node.add_child(Node(node,k[0],k[1]))\n",
    "        #[item for sublist in l for item in sublist]\n",
    "        return [self.next_level(k) for k in node.childs if len(k.get_range(self.rd))>0] \n",
    "    \n",
    "    "
   ]
  },
  {
   "cell_type": "code",
   "execution_count": 196,
   "metadata": {},
   "outputs": [],
   "source": [
    "class MasterNode():\n",
    "    def __init__(self,x,y):\n",
    "        self.x = x\n",
    "        self.y = y\n",
    "        self.childs = []\n",
    "        \n",
    "    def add_child(self,child):\n",
    "        self.childs.append(child)\n",
    "        \n",
    "    def get_range(self,rd):\n",
    "        rango = []\n",
    "        if rd[self.y][self.x+1] == '.':\n",
    "            rango.append((self.x+1, self.y))\n",
    "        if rd[self.y][self.x-1] == '.':\n",
    "            rango.append((self.x-1, self.y))\n",
    "        if rd[self.y+1][self.x] == '.':\n",
    "            rango.append((self.x, self.y+1))\n",
    "        if rd[self.y-1][self.x] == '.':\n",
    "            rango.append((self.x, self.y-1))\n",
    "            \n",
    "        return rango\n",
    "\n",
    "class Node(MasterNode):\n",
    "    def __init__(self, parent,x,y):\n",
    "        MasterNode.__init__(self,x,y)\n",
    "        self.parent = parent\n",
    "\n",
    "        \n",
    "    \n",
    "        \n",
    "    "
   ]
  },
  {
   "cell_type": "code",
   "execution_count": 197,
   "metadata": {},
   "outputs": [],
   "source": [
    "class Game():\n",
    "    def __init__(self,rd):\n",
    "        self.rd = rd\n",
    "        self.goblins = []\n",
    "        self.elfs = []\n",
    "        \n",
    "    def build_units(self):\n",
    "        for y,row in enumerate(self.rd):\n",
    "            for x,col in enumerate(row):\n",
    "                if col == 'G':\n",
    "                    self.goblins.append(Unit(x,y,'G'))\n",
    "                if col == 'E':\n",
    "                    self.elfs.append(Unit(x,y,'E'))\n",
    "                    \n",
    "        print('units built :\\n','goblins: ',\n",
    "              [(i.x,i.y,i.tipo) for i in self.goblins],\n",
    "              '\\n', 'elfs: ',\n",
    "              [(i.x,i.y,i.tipo) for i in self.elfs])\n",
    "        \n",
    "    def set_goals(self,tipo):\n",
    "        goals = []\n",
    "        if tipo == 'G':\n",
    "            #goals are adjacent to elfs\n",
    "            for elf in [i for i in self.elfs if i.alive]:\n",
    "                goals+=elf.get_range(self.rd)\n",
    "                    \n",
    "        else:\n",
    "            for goblin in [i for i in selg.goblins if i.alive]:\n",
    "                goals+=goblin.get_range(self.rd)\n",
    "            #goals are adjacent to goblins\n",
    "            \n",
    "                    \n",
    "        return goals\n",
    "        \n",
    "    def play(self):\n",
    "        turn = 1\n",
    "        while (len([i for i in self.goblins if i.alive]) ) and (\n",
    "        len([i for i in self.elfs if i.alive])\n",
    "        ):\n",
    "            units = sorted([i for i in self.goblins\n",
    "                     if i.alive] + [i for i in self.elfs\n",
    "                                   if i.alive],key = lambda x:(x.y,x.x))\n",
    "            \n",
    "            for unit in units:\n",
    "                if len(unit.get_range(self.rd))==0:\n",
    "                    continue\n",
    "                    \n",
    "                goals = self.set_goals(unit.tipo)\n",
    "                if len(goals) == 0:\n",
    "                    continue\n",
    "                    \n",
    "                if (unit.x,unit.y) in goals:\n",
    "                    #get units in range\n",
    "                    in_range = [soldier for soldier in units\n",
    "                                if soldier.tipo!=unit.tipo and\n",
    "                               (unit.x,unit.y) in \n",
    "                                soldier.get_range(self.rd)].\\\n",
    "                    sort(key = lambda x:(x.hp,x.y,x.x))\n",
    "                    \n",
    "                    atacar = in_range[0]\n",
    "                    \n",
    "                    unit.attack(atacar)\n",
    "                    \n",
    "                    continue\n",
    "                \n",
    "                #if no units in range but units available:\n",
    "                \n",
    "                master = MasterNode(unit.x,unit.y)\n",
    "                path = Path(master,self.rd,goals)\n",
    "                new_x, new_y = path.fill()\n",
    "                self.rd[unit.y][unit.x] = '.'\n",
    "                unit.x = new_x\n",
    "                unit.y = new_y\n",
    "                self.rd[new_y][new_x] = unit.tipo\n",
    "            print(turn)\n",
    "            turn+=1\n",
    "            \n",
    "                \n",
    "                \n",
    "                \n",
    "                 \n",
    "            \n",
    "                    \n",
    "                "
   ]
  },
  {
   "cell_type": "code",
   "execution_count": 198,
   "metadata": {},
   "outputs": [
    {
     "name": "stdout",
     "output_type": "stream",
     "text": [
      "units built :\n",
      " goblins:  [(11, 3, 'G'), (13, 4, 'G'), (14, 4, 'G'), (8, 5, 'G'), (15, 8, 'G'), (20, 9, 'G'), (3, 10, 'G'), (5, 10, 'G'), (13, 12, 'G'), (3, 13, 'G'), (6, 13, 'G'), (2, 14, 'G'), (6, 15, 'G'), (8, 18, 'G'), (10, 18, 'G'), (5, 23, 'G'), (7, 23, 'G'), (9, 25, 'G'), (3, 26, 'G'), (12, 27, 'G')] \n",
      " elfs:  [(22, 17, 'E'), (28, 17, 'E'), (20, 19, 'E'), (11, 21, 'E'), (18, 22, 'E'), (21, 24, 'E'), (17, 25, 'E'), (6, 27, 'E'), (10, 27, 'E'), (24, 27, 'E')]\n"
     ]
    }
   ],
   "source": [
    "myGame = Game(road)\n",
    "myGame.build_units()\n",
    "#myGame.play()"
   ]
  },
  {
   "cell_type": "code",
   "execution_count": 199,
   "metadata": {},
   "outputs": [],
   "source": [
    "example_path = Path(MasterNode(11,3),road,myGame.set_goals('G'))"
   ]
  },
  {
   "cell_type": "code",
   "execution_count": 200,
   "metadata": {},
   "outputs": [
    {
     "data": {
      "text/plain": [
       "[<__main__.MasterNode at 0x10ce76cf8>]"
      ]
     },
     "execution_count": 200,
     "metadata": {},
     "output_type": "execute_result"
    }
   ],
   "source": [
    "example_path.nodes"
   ]
  },
  {
   "cell_type": "code",
   "execution_count": 201,
   "metadata": {},
   "outputs": [
    {
     "data": {
      "text/plain": [
       "[[[[[[[[[[[[[[[[[[[[[[[[[[[[[[[[[[[[[[[[[[[[[[[[[[[[[[[[[[[[[[[[[[],\n",
       "                                                                 [<__main__.Node at 0x10ce82518>]]],\n",
       "                                                               []]],\n",
       "                                                             [[[[[[[[],\n",
       "                                                                    [[],\n",
       "                                                                     [[]]]],\n",
       "                                                                   [[[],\n",
       "                                                                     [[[[[[[[[[[<__main__.Node at 0x10ce8e470>,\n",
       "                                                                                <__main__.Node at 0x10ce8e4a8>],\n",
       "                                                                               [<__main__.Node at 0x10ce8e4e0>,\n",
       "                                                                                [[[[[[[[[[[[[[[[[[<__main__.Node at 0x10ce89208>,\n",
       "                                                                                                  [[<__main__.Node at 0x10ce89438>,\n",
       "                                                                                                    [[[[[[[[[<__main__.Node at 0x10ce89d30>,\n",
       "                                                                                                             <__main__.Node at 0x10ce89d68>],\n",
       "                                                                                                            [[[[[[[]]],\n",
       "                                                                                                                []]],\n",
       "                                                                                                              []],\n",
       "                                                                                                             <__main__.Node at 0x10ce89e10>]],\n",
       "                                                                                                           []],\n",
       "                                                                                                          []],\n",
       "                                                                                                         [[[<__main__.Node at 0x10ce8b0f0>,\n",
       "                                                                                                            <__main__.Node at 0x10ce8b198>]],\n",
       "                                                                                                          [[<__main__.Node at 0x10ce8b2b0>,\n",
       "                                                                                                            <__main__.Node at 0x10ce8b2e8>],\n",
       "                                                                                                           [[[[[<__main__.Node at 0x10ce8b588>]],\n",
       "                                                                                                              <__main__.Node at 0x10ce8b4a8>]],\n",
       "                                                                                                            <__main__.Node at 0x10ce8b358>,\n",
       "                                                                                                            <__main__.Node at 0x10ce8b390>]],\n",
       "                                                                                                          []]],\n",
       "                                                                                                        [],\n",
       "                                                                                                        []],\n",
       "                                                                                                       [],\n",
       "                                                                                                       [<__main__.Node at 0x10ce89978>,\n",
       "                                                                                                        <__main__.Node at 0x10ce89a58>]],\n",
       "                                                                                                      [<__main__.Node at 0x10ce89860>,\n",
       "                                                                                                       <__main__.Node at 0x10ce89e48>],\n",
       "                                                                                                      <__main__.Node at 0x10ce896d8>],\n",
       "                                                                                                     [[[[[[[[[[[]],\n",
       "                                                                                                              [[[[],\n",
       "                                                                                                                 [[]]],\n",
       "                                                                                                                []]]],\n",
       "                                                                                                             [],\n",
       "                                                                                                             []],\n",
       "                                                                                                            []],\n",
       "                                                                                                           []],\n",
       "                                                                                                          [<__main__.Node at 0x10ce8b898>]],\n",
       "                                                                                                         []]],\n",
       "                                                                                                       [[<__main__.Node at 0x10ce8b748>]],\n",
       "                                                                                                       []]],\n",
       "                                                                                                     <__main__.Node at 0x10ce895c0>],\n",
       "                                                                                                    <__main__.Node at 0x10ce894a8>],\n",
       "                                                                                                   [],\n",
       "                                                                                                   []],\n",
       "                                                                                                  <__main__.Node at 0x10ce89278>],\n",
       "                                                                                                 [],\n",
       "                                                                                                 [<__main__.Node at 0x10ce892e8>,\n",
       "                                                                                                  [[]]]],\n",
       "                                                                                                []],\n",
       "                                                                                               [],\n",
       "                                                                                               []]],\n",
       "                                                                                             [],\n",
       "                                                                                             []]],\n",
       "                                                                                           []],\n",
       "                                                                                          []]]],\n",
       "                                                                                       []],\n",
       "                                                                                      []],\n",
       "                                                                                     []]],\n",
       "                                                                                   []],\n",
       "                                                                                  []],\n",
       "                                                                                 [<__main__.Node at 0x10ce8e6d8>]],\n",
       "                                                                                <__main__.Node at 0x10ce8e550>],\n",
       "                                                                               []],\n",
       "                                                                              []],\n",
       "                                                                             [],\n",
       "                                                                             [[]]],\n",
       "                                                                            [],\n",
       "                                                                            []],\n",
       "                                                                           []],\n",
       "                                                                          []],\n",
       "                                                                         []],\n",
       "                                                                        []]]]]],\n",
       "                                                                   []]],\n",
       "                                                                 []],\n",
       "                                                                [],\n",
       "                                                                []],\n",
       "                                                               []]]],\n",
       "                                                            [],\n",
       "                                                            []]],\n",
       "                                                          []],\n",
       "                                                         []],\n",
       "                                                        []],\n",
       "                                                       []]],\n",
       "                                                     []],\n",
       "                                                    []],\n",
       "                                                   []],\n",
       "                                                  [],\n",
       "                                                  []],\n",
       "                                                 [[[[]],\n",
       "                                                   [[[[[[[[[[]]],\n",
       "                                                          [[[[], []]], []]]],\n",
       "                                                        [],\n",
       "                                                        [[[[[[[], []]], []]],\n",
       "                                                          [[[[[], []], []]],\n",
       "                                                           []],\n",
       "                                                          []]]],\n",
       "                                                       []],\n",
       "                                                      [],\n",
       "                                                      []],\n",
       "                                                     []],\n",
       "                                                    []]],\n",
       "                                                  [],\n",
       "                                                  []]],\n",
       "                                                [],\n",
       "                                                []],\n",
       "                                               [],\n",
       "                                               []],\n",
       "                                              [],\n",
       "                                              []],\n",
       "                                             []]]],\n",
       "                                          [],\n",
       "                                          []]],\n",
       "                                        [],\n",
       "                                        [[[[]], [[]]], []]],\n",
       "                                       []],\n",
       "                                      []],\n",
       "                                     []]]]]]],\n",
       "                               [[[[<__main__.Node at 0x10ce32d68>],\n",
       "                                  [<__main__.Node at 0x10ce325f8>,\n",
       "                                   <__main__.Node at 0x10ce325c0>]]]]],\n",
       "                              []]],\n",
       "                            [],\n",
       "                            []]],\n",
       "                          []],\n",
       "                         [],\n",
       "                         []],\n",
       "                        []],\n",
       "                       [],\n",
       "                       []],\n",
       "                      []],\n",
       "                     []],\n",
       "                    [],\n",
       "                    []]],\n",
       "                  []],\n",
       "                 []],\n",
       "                [[], [[[[[[[]], []]], [], [[]]], [], []]]]],\n",
       "               [],\n",
       "               []],\n",
       "              []]]],\n",
       "           [],\n",
       "           []]],\n",
       "         []],\n",
       "        []],\n",
       "       [],\n",
       "       []]],\n",
       "     []],\n",
       "    [],\n",
       "    []],\n",
       "   [[], []]],\n",
       "  [],\n",
       "  []],\n",
       " []]"
      ]
     },
     "execution_count": 201,
     "metadata": {},
     "output_type": "execute_result"
    }
   ],
   "source": [
    "example_path.next_level(example_path.nodes[0])"
   ]
  },
  {
   "cell_type": "code",
   "execution_count": 212,
   "metadata": {},
   "outputs": [
    {
     "data": {
      "text/plain": [
       "[(10, 3), (11, 4)]"
      ]
     },
     "execution_count": 212,
     "metadata": {},
     "output_type": "execute_result"
    }
   ],
   "source": [
    "[(i.x,i.y) for i in example_path.nodes[0].childs]"
   ]
  },
  {
   "cell_type": "code",
   "execution_count": 214,
   "metadata": {},
   "outputs": [
    {
     "data": {
      "text/plain": [
       "[(11, 3)]"
      ]
     },
     "execution_count": 214,
     "metadata": {},
     "output_type": "execute_result"
    }
   ],
   "source": [
    "[(i.x,i.y) for i in [example_path.nodes[0]]]"
   ]
  },
  {
   "cell_type": "code",
   "execution_count": 215,
   "metadata": {},
   "outputs": [
    {
     "data": {
      "text/plain": [
       "[(10, 3), (11, 4)]"
      ]
     },
     "execution_count": 215,
     "metadata": {},
     "output_type": "execute_result"
    }
   ],
   "source": [
    "example_path.nodes[0].get_range(road)"
   ]
  },
  {
   "cell_type": "code",
   "execution_count": 218,
   "metadata": {},
   "outputs": [
    {
     "data": {
      "text/plain": [
       "'.'"
      ]
     },
     "execution_count": 218,
     "metadata": {},
     "output_type": "execute_result"
    }
   ],
   "source": [
    "road[3][10]"
   ]
  },
  {
   "cell_type": "code",
   "execution_count": null,
   "metadata": {},
   "outputs": [],
   "source": []
  }
 ],
 "metadata": {
  "kernelspec": {
   "display_name": "Python 3",
   "language": "python",
   "name": "python3"
  },
  "language_info": {
   "codemirror_mode": {
    "name": "ipython",
    "version": 3
   },
   "file_extension": ".py",
   "mimetype": "text/x-python",
   "name": "python",
   "nbconvert_exporter": "python",
   "pygments_lexer": "ipython3",
   "version": "3.7.0"
  }
 },
 "nbformat": 4,
 "nbformat_minor": 2
}
