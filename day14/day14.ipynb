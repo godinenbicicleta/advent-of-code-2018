{
 "cells": [
  {
   "cell_type": "code",
   "execution_count": 39,
   "metadata": {},
   "outputs": [
    {
     "name": "stdout",
     "output_type": "stream",
     "text": [
      "5832873106"
     ]
    }
   ],
   "source": [
    "recipies = [3,7]\n",
    "num = 939601\n",
    "size = num+10\n",
    "\n",
    "while len(recipies)<size:\n",
    "    if len(recipies)==2:\n",
    "        suma = recipies[0]+recipies[1]\n",
    "        first = 0\n",
    "        second = 1\n",
    "\n",
    "    if suma>9:\n",
    "        deci = suma//10\n",
    "        digi = suma%10\n",
    "\n",
    "        recipies.append(deci)\n",
    "        recipies.append(digi)\n",
    "\n",
    "    if suma <10:\n",
    "        recipies.append(suma)\n",
    "\n",
    "    first = first+1+recipies[first]\n",
    "    second = second+1+recipies[second]\n",
    "    \n",
    "    while first>len(recipies)-1:\n",
    "        first -= len(recipies)\n",
    "    \n",
    "    while second>len(recipies)-1:\n",
    "        second -= len(recipies)\n",
    "        \n",
    "    \n",
    "    suma = recipies[first]+recipies[second]\n",
    "\n",
    "\n",
    "for i,r in enumerate(recipies[-10:]):\n",
    "    if i == first:\n",
    "        print(f'{r}',end ='' )\n",
    "    elif i == second:\n",
    "        print(f'{r}',end ='' )\n",
    "    else:\n",
    "        print(f'{r}',end ='' )\n",
    "    \n",
    "            \n",
    "            \n",
    "            "
   ]
  },
  {
   "cell_type": "code",
   "execution_count": 49,
   "metadata": {},
   "outputs": [
    {
     "name": "stdout",
     "output_type": "stream",
     "text": [
      "9\n"
     ]
    }
   ],
   "source": [
    "recipies = [3,7]\n",
    "num = 9\n",
    "size = num+10\n",
    "\n",
    "while len(recipies)>0:\n",
    "    if len(recipies)==2:\n",
    "        suma = recipies[0]+recipies[1]\n",
    "        first = 0\n",
    "        second = 1\n",
    "\n",
    "    if suma>9:\n",
    "        deci = suma//10\n",
    "        digi = suma%10\n",
    "\n",
    "        recipies.append(deci)\n",
    "        recipies.append(digi)\n",
    "\n",
    "    if suma <10:\n",
    "        recipies.append(suma)\n",
    "\n",
    "    first = first+1+recipies[first]\n",
    "    second = second+1+recipies[second]\n",
    "    \n",
    "    while first>len(recipies)-1:\n",
    "        first -= len(recipies)\n",
    "    \n",
    "    while second>len(recipies)-1:\n",
    "        second -= len(recipies)\n",
    "        \n",
    "    \n",
    "    suma = recipies[first]+recipies[second]\n",
    "    \n",
    "    \n",
    "    if len(recipies)>=5 and (str(recipies[-5])+\n",
    "       str(recipies[-4])+\n",
    "       str(recipies[-3])+\n",
    "       str(recipies[-2])+\n",
    "       str(recipies[-1])) == str(51589):\n",
    "        break\n",
    "\n",
    "\n",
    "print(len(recipies)-5)\n",
    "\n",
    "\n",
    "\n"
   ]
  },
  {
   "cell_type": "code",
   "execution_count": 83,
   "metadata": {},
   "outputs": [
    {
     "name": "stdout",
     "output_type": "stream",
     "text": [
      "20273709\n"
     ]
    }
   ],
   "source": [
    "recipies = [3,7]\n",
    "num = '939601'\n",
    "\n",
    "\n",
    "\n",
    "while len(recipies)>0:\n",
    "    if len(recipies)==2:\n",
    "        suma = recipies[0]+recipies[1]\n",
    "        first = 0\n",
    "        second = 1\n",
    "        \n",
    "\n",
    "    if suma>9:\n",
    "        deci = suma//10\n",
    "        digi = suma%10\n",
    "\n",
    "        recipies.append(deci)\n",
    "        recipies.append(digi)\n",
    "\n",
    "    if suma <10:\n",
    "        recipies.append(suma)\n",
    "\n",
    "    first = first+1+recipies[first]\n",
    "    second = second+1+recipies[second]\n",
    "    \n",
    "    while first>len(recipies)-1:\n",
    "        first -= len(recipies)\n",
    "    \n",
    "    while second>len(recipies)-1:\n",
    "        second -= len(recipies)\n",
    "        \n",
    "    \n",
    "    suma = recipies[first]+recipies[second]\n",
    "\n",
    "    try:\n",
    "        palabra = ''.join(str(e) for e in recipies[-10:])\n",
    "    except:\n",
    "        pass\n",
    "    \n",
    "    if num in palabra:\n",
    "        break\n",
    "\n",
    "\n",
    "print(len(recipies)-6)\n",
    "\n",
    "\n",
    "\n"
   ]
  },
  {
   "cell_type": "code",
   "execution_count": 56,
   "metadata": {},
   "outputs": [
    {
     "data": {
      "text/plain": [
       "42935462"
      ]
     },
     "execution_count": 56,
     "metadata": {},
     "output_type": "execute_result"
    }
   ],
   "source": [
    "len(recipies)"
   ]
  },
  {
   "cell_type": "code",
   "execution_count": 84,
   "metadata": {},
   "outputs": [
    {
     "data": {
      "text/plain": [
       "20273715"
      ]
     },
     "execution_count": 84,
     "metadata": {},
     "output_type": "execute_result"
    }
   ],
   "source": [
    "len(recipies)"
   ]
  },
  {
   "cell_type": "code",
   "execution_count": 62,
   "metadata": {},
   "outputs": [
    {
     "data": {
      "text/plain": [
       "'421393'"
      ]
     },
     "execution_count": 62,
     "metadata": {},
     "output_type": "execute_result"
    }
   ],
   "source": [
    "(\n",
    "        str(recipies[-6])+\n",
    "        str(recipies[-5])+\n",
    "        str(recipies[-4])+\n",
    "        str(recipies[-3])+\n",
    "        str(recipies[-2])+\n",
    "        str(recipies[-1]))"
   ]
  },
  {
   "cell_type": "code",
   "execution_count": 61,
   "metadata": {},
   "outputs": [
    {
     "data": {
      "text/plain": [
       "[7, 1, 4, 1, 4, 2, 1, 3, 9, 3]"
      ]
     },
     "execution_count": 61,
     "metadata": {},
     "output_type": "execute_result"
    }
   ],
   "source": [
    "recipies[-10:]"
   ]
  },
  {
   "cell_type": "code",
   "execution_count": 65,
   "metadata": {},
   "outputs": [
    {
     "data": {
      "text/plain": [
       "1000000"
      ]
     },
     "execution_count": 65,
     "metadata": {},
     "output_type": "execute_result"
    }
   ],
   "source": [
    "10**6"
   ]
  },
  {
   "cell_type": "code",
   "execution_count": 67,
   "metadata": {},
   "outputs": [
    {
     "data": {
      "text/plain": [
       "[9, 9, 1, 4, 2, 1, 1, 5, 2, 7]"
      ]
     },
     "execution_count": 67,
     "metadata": {},
     "output_type": "execute_result"
    }
   ],
   "source": [
    "recipies[-10:]"
   ]
  },
  {
   "cell_type": "code",
   "execution_count": 69,
   "metadata": {},
   "outputs": [],
   "source": [
    "palabra = ''\n",
    "for i in recipies:\n",
    "    palabra+=str(i)"
   ]
  },
  {
   "cell_type": "code",
   "execution_count": 70,
   "metadata": {},
   "outputs": [
    {
     "data": {
      "text/plain": [
       "True"
      ]
     },
     "execution_count": 70,
     "metadata": {},
     "output_type": "execute_result"
    }
   ],
   "source": [
    "'939601' in palabra"
   ]
  },
  {
   "cell_type": "code",
   "execution_count": 74,
   "metadata": {},
   "outputs": [
    {
     "data": {
      "text/plain": [
       "False"
      ]
     },
     "execution_count": 74,
     "metadata": {},
     "output_type": "execute_result"
    }
   ],
   "source": [
    "num in palabra"
   ]
  },
  {
   "cell_type": "code",
   "execution_count": 80,
   "metadata": {},
   "outputs": [
    {
     "data": {
      "text/plain": [
       "[1, 0, 1, 2, 6, 4, 7, 3, 3, 2]"
      ]
     },
     "execution_count": 80,
     "metadata": {},
     "output_type": "execute_result"
    }
   ],
   "source": [
    "recipies[-10:]"
   ]
  },
  {
   "cell_type": "code",
   "execution_count": 85,
   "metadata": {},
   "outputs": [
    {
     "data": {
      "text/plain": [
       "'9899396013'"
      ]
     },
     "execution_count": 85,
     "metadata": {},
     "output_type": "execute_result"
    }
   ],
   "source": [
    "palabra[-10:]"
   ]
  },
  {
   "cell_type": "code",
   "execution_count": 86,
   "metadata": {},
   "outputs": [
    {
     "data": {
      "text/plain": [
       "'939601'"
      ]
     },
     "execution_count": 86,
     "metadata": {},
     "output_type": "execute_result"
    }
   ],
   "source": [
    "num"
   ]
  },
  {
   "cell_type": "code",
   "execution_count": 87,
   "metadata": {},
   "outputs": [
    {
     "name": "stdout",
     "output_type": "stream",
     "text": [
      "2018\n"
     ]
    }
   ],
   "source": [
    "recipies = [3,7]\n",
    "num = '59414'\n",
    "\n",
    "\n",
    "\n",
    "while len(recipies)>0:\n",
    "    if len(recipies)==2:\n",
    "        suma = recipies[0]+recipies[1]\n",
    "        first = 0\n",
    "        second = 1\n",
    "        \n",
    "\n",
    "    if suma>9:\n",
    "        deci = suma//10\n",
    "        digi = suma%10\n",
    "\n",
    "        recipies.append(deci)\n",
    "        recipies.append(digi)\n",
    "\n",
    "    if suma <10:\n",
    "        recipies.append(suma)\n",
    "\n",
    "    first = first+1+recipies[first]\n",
    "    second = second+1+recipies[second]\n",
    "    \n",
    "    while first>len(recipies)-1:\n",
    "        first -= len(recipies)\n",
    "    \n",
    "    while second>len(recipies)-1:\n",
    "        second -= len(recipies)\n",
    "        \n",
    "    \n",
    "    suma = recipies[first]+recipies[second]\n",
    "\n",
    "    try:\n",
    "        palabra = ''.join(str(e) for e in recipies[-10:])\n",
    "    except:\n",
    "        pass\n",
    "    \n",
    "    if num in palabra:\n",
    "        break\n",
    "\n",
    "\n",
    "print(len(recipies)-5)\n",
    "\n",
    "\n",
    "\n"
   ]
  },
  {
   "cell_type": "code",
   "execution_count": 88,
   "metadata": {},
   "outputs": [
    {
     "data": {
      "text/plain": [
       "'9122159414'"
      ]
     },
     "execution_count": 88,
     "metadata": {},
     "output_type": "execute_result"
    }
   ],
   "source": [
    "palabra"
   ]
  },
  {
   "cell_type": "code",
   "execution_count": 89,
   "metadata": {},
   "outputs": [
    {
     "data": {
      "text/plain": [
       "2023"
      ]
     },
     "execution_count": 89,
     "metadata": {},
     "output_type": "execute_result"
    }
   ],
   "source": [
    "len(recipies)"
   ]
  },
  {
   "cell_type": "code",
   "execution_count": null,
   "metadata": {},
   "outputs": [],
   "source": []
  }
 ],
 "metadata": {
  "kernelspec": {
   "display_name": "Python 3",
   "language": "python",
   "name": "python3"
  },
  "language_info": {
   "codemirror_mode": {
    "name": "ipython",
    "version": 3
   },
   "file_extension": ".py",
   "mimetype": "text/x-python",
   "name": "python",
   "nbconvert_exporter": "python",
   "pygments_lexer": "ipython3",
   "version": "3.7.0"
  }
 },
 "nbformat": 4,
 "nbformat_minor": 2
}
